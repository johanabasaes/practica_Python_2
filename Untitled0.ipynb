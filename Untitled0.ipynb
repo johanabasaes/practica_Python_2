{
  "nbformat": 4,
  "nbformat_minor": 0,
  "metadata": {
    "colab": {
      "provenance": [],
      "authorship_tag": "ABX9TyOUg1zYUdgemd37ABs6R829",
      "include_colab_link": true
    },
    "kernelspec": {
      "name": "python3",
      "display_name": "Python 3"
    },
    "language_info": {
      "name": "python"
    }
  },
  "cells": [
    {
      "cell_type": "markdown",
      "metadata": {
        "id": "view-in-github",
        "colab_type": "text"
      },
      "source": [
        "<a href=\"https://colab.research.google.com/github/johanabasaes/practica_Python_2/blob/main/Untitled0.ipynb\" target=\"_parent\"><img src=\"https://colab.research.google.com/assets/colab-badge.svg\" alt=\"Open In Colab\"/></a>"
      ]
    },
    {
      "cell_type": "markdown",
      "source": [
        "Vamos practicar el uso de estructuras condicionales como el if, else y elif a través de algunas actividades. Ahora que estamos avanzando en los contenidos, podemos hacer los desafíos más interesantes: ¡trabajaremos en proyectos de código! Resuelve los problemas iniciales para prepararte para los proyectos:\n",
        "\n",
        "Entrenando la programación"
      ],
      "metadata": {
        "id": "cHgr9UNBrKNP"
      }
    },
    {
      "cell_type": "markdown",
      "source": [
        "1 - Escribe un programa que pida a la persona usuaria que proporcione dos números y muestre el número más grande."
      ],
      "metadata": {
        "id": "NCnhruXGd8-4"
      }
    },
    {
      "cell_type": "code",
      "source": [
        "num_1= float(input(\"Ingrese el primer número: \"))\n",
        "num_2= float(input(\"Ingrese el segundo número: \"))"
      ],
      "metadata": {
        "colab": {
          "base_uri": "https://localhost:8080/"
        },
        "id": "Id6Ufz55eGIv",
        "outputId": "8f39eb22-8294-4da6-cf46-a3df94af6f2f"
      },
      "execution_count": 4,
      "outputs": [
        {
          "name": "stdout",
          "output_type": "stream",
          "text": [
            "Ingrese el primer número: 10\n",
            "Ingrese el segundo número: 10\n"
          ]
        }
      ]
    },
    {
      "cell_type": "code",
      "source": [
        "if num_1 > num_2:\n",
        " print(\"num_1 es mayor que num_2\")\n",
        "elif num_1<num_2:\n",
        " print('num_2 es mayor que num_1')\n",
        "else:\n",
        "  print('los números son iguales')"
      ],
      "metadata": {
        "colab": {
          "base_uri": "https://localhost:8080/"
        },
        "id": "yKVJ32ORfmHG",
        "outputId": "99bd5e25-ec97-41b2-f5ca-49ec01f0e93e"
      },
      "execution_count": 5,
      "outputs": [
        {
          "output_type": "stream",
          "name": "stdout",
          "text": [
            "los números son iguales\n"
          ]
        }
      ]
    },
    {
      "cell_type": "markdown",
      "source": [
        "2 - Escribe un programa que solicite el porcentaje de crecimiento de producción de una empresa e informe si hubo un crecimiento (porcentaje positivo) o una disminución (porcentaje negativo)."
      ],
      "metadata": {
        "id": "u19PlGgKhC5G"
      }
    },
    {
      "cell_type": "code",
      "source": [
        "crecimiento= float(input('Ingrese el porcentaje de crecimiento de la producción: '))"
      ],
      "metadata": {
        "colab": {
          "base_uri": "https://localhost:8080/"
        },
        "id": "Im1S3oqZjtU8",
        "outputId": "27ed51e5-4d60-4bad-cb34-3ce54fb1a8df"
      },
      "execution_count": 22,
      "outputs": [
        {
          "name": "stdout",
          "output_type": "stream",
          "text": [
            "Ingrese el porcentaje de crecimiento de la producción: 2.5\n"
          ]
        }
      ]
    },
    {
      "cell_type": "code",
      "source": [
        "if crecimiento > 0:\n",
        "  print(f'se ha registrado un crecimiento de producción de {crecimiento}%' )\n",
        "elif crecimiento < 0:\n",
        "  print(f'se ha registrado una disminución de producción de {crecimiento}%' )\n",
        "else:\n",
        "  print('no se ha registrado ningún cambio en la producción')"
      ],
      "metadata": {
        "colab": {
          "base_uri": "https://localhost:8080/"
        },
        "id": "lFFbCgceh-qP",
        "outputId": "0cd2fd32-15e0-4a42-9ea3-70ab1f7dd97c"
      },
      "execution_count": 23,
      "outputs": [
        {
          "output_type": "stream",
          "name": "stdout",
          "text": [
            "se ha registrado un crecimiento de producción de 2.5%\n"
          ]
        }
      ]
    },
    {
      "cell_type": "markdown",
      "source": [
        "3 - Escribe un programa que determine si una letra proporcionada por la persona usuaria es una vocal o una consonante."
      ],
      "metadata": {
        "id": "V7KAK0QVmTZ5"
      }
    },
    {
      "cell_type": "code",
      "source": [
        "letra= input('ingrese una letra: ')"
      ],
      "metadata": {
        "colab": {
          "base_uri": "https://localhost:8080/"
        },
        "id": "2zbt-Ax9ik5g",
        "outputId": "92f091d0-16fe-451f-eb98-9f74fd21ea0c"
      },
      "execution_count": 27,
      "outputs": [
        {
          "name": "stdout",
          "output_type": "stream",
          "text": [
            "ingrese una letra: b\n"
          ]
        }
      ]
    },
    {
      "cell_type": "code",
      "source": [
        "if letra in 'aeiou':\n",
        "  print(f'{letra} es una vocal')\n",
        "else:\n",
        "  print(f'{letra} es una consonante')"
      ],
      "metadata": {
        "colab": {
          "base_uri": "https://localhost:8080/"
        },
        "id": "w7VryVNGmnnW",
        "outputId": "73f21b66-3937-4b7e-a17a-6bd54ffade4c"
      },
      "execution_count": 28,
      "outputs": [
        {
          "output_type": "stream",
          "name": "stdout",
          "text": [
            "b es una consonante\n"
          ]
        }
      ]
    },
    {
      "cell_type": "markdown",
      "source": [
        "4 - Escribe un programa que lea valores promedio de precios de un modelo de automóvil durante 3 años consecutivos y muestre el valor más alto y más bajo entre esos tres años."
      ],
      "metadata": {
        "id": "uFVL32aGnNaa"
      }
    },
    {
      "cell_type": "code",
      "source": [
        "precio_año_1 = float(input('Ingrese el precio del automóvil clio mio mod 2023 en el año 2023: '))\n",
        "precio_año_2 = float(input('Ingrese el precio del automóvil clio mio mod 2023 en el año 2024: '))\n",
        "precio_año_3 = float(input('Ingrese el precio del automóvil clio mio mod 2023 en el año 2025: '))"
      ],
      "metadata": {
        "colab": {
          "base_uri": "https://localhost:8080/"
        },
        "id": "97XErNtGm5cc",
        "outputId": "86495642-cb49-403b-b71a-21cc3c664815"
      },
      "execution_count": 29,
      "outputs": [
        {
          "name": "stdout",
          "output_type": "stream",
          "text": [
            "Ingrese el precio del automóvil clio mio mod 2023 en el año 2023: 2500000\n",
            "Ingrese el precio del automóvil clio mio mod 2023 en el año 2024: 5000000\n",
            "Ingrese el precio del automóvil clio mio mod 2023 en el año 2025: 7000000\n"
          ]
        }
      ]
    },
    {
      "cell_type": "code",
      "source": [],
      "metadata": {
        "id": "Jl_mKPcDqOo3"
      },
      "execution_count": null,
      "outputs": []
    },
    {
      "cell_type": "code",
      "source": [
        "if precio_año_1 > precio_año_2 and precio_año_1 > precio_año_3:\n",
        "  print(f'el precio más alto fue de {precio_año_1} en el año 2023')\n",
        "elif precio_año_2 > precio_año_1 and precio_año_2 > precio_año_3:\n",
        "  print(f'el precio más alto fue de {precio_año_2} en el año 2024')\n",
        "else:\n",
        "  print(f'el precio más alto fue de {precio_año_3} en el año 2025')"
      ],
      "metadata": {
        "colab": {
          "base_uri": "https://localhost:8080/"
        },
        "id": "50YVC_L1omHy",
        "outputId": "6f40b925-9e4f-489c-aff6-5f288509ea30"
      },
      "execution_count": 30,
      "outputs": [
        {
          "output_type": "stream",
          "name": "stdout",
          "text": [
            "el precio más alto fue de 7000000.0 en el año 2025\n"
          ]
        }
      ]
    },
    {
      "cell_type": "code",
      "source": [
        "if precio_año_1 < precio_año_2 and precio_año_1 < precio_año_3:\n",
        "  print(f'el precio más bajo fue de {precio_año_1} en el año 2023')\n",
        "elif precio_año_2 < precio_año_1 and precio_año_2 < precio_año_3:\n",
        "  print(f'el precio más bajo fue de {precio_año_2} en el año 2024')\n",
        "else:\n",
        "  print(f'el precio más bajo fue de {precio_año_3} en el año 2025')"
      ],
      "metadata": {
        "colab": {
          "base_uri": "https://localhost:8080/"
        },
        "id": "LoUrPBFPpREa",
        "outputId": "1ba23a12-f5ed-4f42-8b31-30778f735ad7"
      },
      "execution_count": 31,
      "outputs": [
        {
          "output_type": "stream",
          "name": "stdout",
          "text": [
            "el precio más bajo fue de 2500000.0 en el año 2023\n"
          ]
        }
      ]
    },
    {
      "cell_type": "markdown",
      "source": [
        "5 - Escribe un programa que pregunte sobre el precio de tres productos e indique cuál es el producto más barato para comprar."
      ],
      "metadata": {
        "id": "qLcmpo45rH1_"
      }
    },
    {
      "cell_type": "code",
      "source": [
        "producto_1 = float(input('Ingrese el precio del producto 1: '))\n",
        "producto_2 = float(input('Ingrese el precio del producto 2: '))\n",
        "producto_3 = float(input('Ingrese el precio del producto 3: '))"
      ],
      "metadata": {
        "colab": {
          "base_uri": "https://localhost:8080/"
        },
        "id": "nJDOW3hsq_Gw",
        "outputId": "44d537e0-6828-4e1f-aba8-c4966f557a91"
      },
      "execution_count": 32,
      "outputs": [
        {
          "name": "stdout",
          "output_type": "stream",
          "text": [
            "Ingrese el precio del producto 1: 50\n",
            "Ingrese el precio del producto 2: 2000\n",
            "Ingrese el precio del producto 3: 300\n"
          ]
        }
      ]
    },
    {
      "cell_type": "code",
      "source": [
        "if producto_1 < producto_2 and producto_1 < producto_3:\n",
        "  print(f'el producto 1 es el más barato con un precio de {producto_1}')\n",
        "elif producto_2 <producto_1 and producto_2 < producto_3:\n",
        "  print(f'el producto 2 es el más barato con un precio de {producto_2}')\n",
        "else:\n",
        "  print(f'el producto 3 es el más barato con un precio de {producto_3}')\n"
      ],
      "metadata": {
        "colab": {
          "base_uri": "https://localhost:8080/"
        },
        "id": "uyA7PvCVrrEk",
        "outputId": "2e8b9ef0-c42b-452c-91e4-e42acf2ac948"
      },
      "execution_count": 33,
      "outputs": [
        {
          "output_type": "stream",
          "name": "stdout",
          "text": [
            "el producto 1 es el más barato con un precio de 50.0\n"
          ]
        }
      ]
    },
    {
      "cell_type": "markdown",
      "source": [
        "5 - Escribe un programa que pregunte sobre el precio de tres productos e indique cuál es el producto más barato para comprar."
      ],
      "metadata": {
        "id": "KDzMdngesPyQ"
      }
    },
    {
      "cell_type": "code",
      "source": [],
      "metadata": {
        "id": "lYpAONPrsJP5"
      },
      "execution_count": null,
      "outputs": []
    }
  ]
}