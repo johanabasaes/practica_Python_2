{
  "nbformat": 4,
  "nbformat_minor": 0,
  "metadata": {
    "colab": {
      "provenance": [],
      "authorship_tag": "ABX9TyNbAj2Mm5hT6lMIbADdmeg9",
      "include_colab_link": true
    },
    "kernelspec": {
      "name": "python3",
      "display_name": "Python 3"
    },
    "language_info": {
      "name": "python"
    }
  },
  "cells": [
    {
      "cell_type": "markdown",
      "metadata": {
        "id": "view-in-github",
        "colab_type": "text"
      },
      "source": [
        "<a href=\"https://colab.research.google.com/github/johanabasaes/practica_Python_2/blob/main/Untitled0.ipynb\" target=\"_parent\"><img src=\"https://colab.research.google.com/assets/colab-badge.svg\" alt=\"Open In Colab\"/></a>"
      ]
    },
    {
      "cell_type": "markdown",
      "source": [
        "Vamos practicar el uso de estructuras condicionales como el if, else y elif a través de algunas actividades. Ahora que estamos avanzando en los contenidos, podemos hacer los desafíos más interesantes: ¡trabajaremos en proyectos de código! Resuelve los problemas iniciales para prepararte para los proyectos:\n",
        "\n",
        "**Entrenando la programación**"
      ],
      "metadata": {
        "id": "cHgr9UNBrKNP"
      }
    },
    {
      "cell_type": "markdown",
      "source": [
        "1 - Escribe un programa que pida a la persona usuaria que proporcione dos números y muestre el número más grande."
      ],
      "metadata": {
        "id": "NCnhruXGd8-4"
      }
    },
    {
      "cell_type": "code",
      "source": [
        "num_1= float(input(\"Ingrese el primer número: \"))\n",
        "num_2= float(input(\"Ingrese el segundo número: \"))"
      ],
      "metadata": {
        "colab": {
          "base_uri": "https://localhost:8080/"
        },
        "id": "Id6Ufz55eGIv",
        "outputId": "8f39eb22-8294-4da6-cf46-a3df94af6f2f"
      },
      "execution_count": null,
      "outputs": [
        {
          "name": "stdout",
          "output_type": "stream",
          "text": [
            "Ingrese el primer número: 10\n",
            "Ingrese el segundo número: 10\n"
          ]
        }
      ]
    },
    {
      "cell_type": "code",
      "source": [
        "if num_1 > num_2:\n",
        " print(\"num_1 es mayor que num_2\")\n",
        "elif num_1<num_2:\n",
        " print('num_2 es mayor que num_1')\n",
        "else:\n",
        "  print('los números son iguales')"
      ],
      "metadata": {
        "colab": {
          "base_uri": "https://localhost:8080/"
        },
        "id": "yKVJ32ORfmHG",
        "outputId": "99bd5e25-ec97-41b2-f5ca-49ec01f0e93e"
      },
      "execution_count": null,
      "outputs": [
        {
          "output_type": "stream",
          "name": "stdout",
          "text": [
            "los números son iguales\n"
          ]
        }
      ]
    },
    {
      "cell_type": "markdown",
      "source": [
        "2 - Escribe un programa que solicite el porcentaje de crecimiento de producción de una empresa e informe si hubo un crecimiento (porcentaje positivo) o una disminución (porcentaje negativo)."
      ],
      "metadata": {
        "id": "u19PlGgKhC5G"
      }
    },
    {
      "cell_type": "code",
      "source": [
        "crecimiento= float(input('Ingrese el porcentaje de crecimiento de la producción: '))"
      ],
      "metadata": {
        "colab": {
          "base_uri": "https://localhost:8080/"
        },
        "id": "Im1S3oqZjtU8",
        "outputId": "27ed51e5-4d60-4bad-cb34-3ce54fb1a8df"
      },
      "execution_count": null,
      "outputs": [
        {
          "name": "stdout",
          "output_type": "stream",
          "text": [
            "Ingrese el porcentaje de crecimiento de la producción: 2.5\n"
          ]
        }
      ]
    },
    {
      "cell_type": "code",
      "source": [
        "if crecimiento > 0:\n",
        "  print(f'se ha registrado un crecimiento de producción de {crecimiento}%' )\n",
        "elif crecimiento < 0:\n",
        "  print(f'se ha registrado una disminución de producción de {crecimiento}%' )\n",
        "else:\n",
        "  print('no se ha registrado ningún cambio en la producción')"
      ],
      "metadata": {
        "colab": {
          "base_uri": "https://localhost:8080/"
        },
        "id": "lFFbCgceh-qP",
        "outputId": "0cd2fd32-15e0-4a42-9ea3-70ab1f7dd97c"
      },
      "execution_count": null,
      "outputs": [
        {
          "output_type": "stream",
          "name": "stdout",
          "text": [
            "se ha registrado un crecimiento de producción de 2.5%\n"
          ]
        }
      ]
    },
    {
      "cell_type": "markdown",
      "source": [
        "3 - Escribe un programa que determine si una letra proporcionada por la persona usuaria es una vocal o una consonante."
      ],
      "metadata": {
        "id": "V7KAK0QVmTZ5"
      }
    },
    {
      "cell_type": "code",
      "source": [
        "letra= input('ingrese una letra: ')"
      ],
      "metadata": {
        "colab": {
          "base_uri": "https://localhost:8080/"
        },
        "id": "2zbt-Ax9ik5g",
        "outputId": "92f091d0-16fe-451f-eb98-9f74fd21ea0c"
      },
      "execution_count": null,
      "outputs": [
        {
          "name": "stdout",
          "output_type": "stream",
          "text": [
            "ingrese una letra: b\n"
          ]
        }
      ]
    },
    {
      "cell_type": "code",
      "source": [
        "if letra in 'aeiou':\n",
        "  print(f'{letra} es una vocal')\n",
        "else:\n",
        "  print(f'{letra} es una consonante')"
      ],
      "metadata": {
        "colab": {
          "base_uri": "https://localhost:8080/"
        },
        "id": "w7VryVNGmnnW",
        "outputId": "73f21b66-3937-4b7e-a17a-6bd54ffade4c"
      },
      "execution_count": null,
      "outputs": [
        {
          "output_type": "stream",
          "name": "stdout",
          "text": [
            "b es una consonante\n"
          ]
        }
      ]
    },
    {
      "cell_type": "markdown",
      "source": [
        "4 - Escribe un programa que lea valores promedio de precios de un modelo de automóvil durante 3 años consecutivos y muestre el valor más alto y más bajo entre esos tres años."
      ],
      "metadata": {
        "id": "uFVL32aGnNaa"
      }
    },
    {
      "cell_type": "code",
      "source": [
        "precio_año_1 = float(input('Ingrese el precio del automóvil clio mio mod 2023 en el año 2023: '))\n",
        "precio_año_2 = float(input('Ingrese el precio del automóvil clio mio mod 2023 en el año 2024: '))\n",
        "precio_año_3 = float(input('Ingrese el precio del automóvil clio mio mod 2023 en el año 2025: '))"
      ],
      "metadata": {
        "colab": {
          "base_uri": "https://localhost:8080/"
        },
        "id": "97XErNtGm5cc",
        "outputId": "86495642-cb49-403b-b71a-21cc3c664815"
      },
      "execution_count": null,
      "outputs": [
        {
          "name": "stdout",
          "output_type": "stream",
          "text": [
            "Ingrese el precio del automóvil clio mio mod 2023 en el año 2023: 2500000\n",
            "Ingrese el precio del automóvil clio mio mod 2023 en el año 2024: 5000000\n",
            "Ingrese el precio del automóvil clio mio mod 2023 en el año 2025: 7000000\n"
          ]
        }
      ]
    },
    {
      "cell_type": "code",
      "source": [],
      "metadata": {
        "id": "Jl_mKPcDqOo3"
      },
      "execution_count": null,
      "outputs": []
    },
    {
      "cell_type": "code",
      "source": [
        "if precio_año_1 > precio_año_2 and precio_año_1 > precio_año_3:\n",
        "  print(f'el precio más alto fue de {precio_año_1} en el año 2023')\n",
        "elif precio_año_2 > precio_año_1 and precio_año_2 > precio_año_3:\n",
        "  print(f'el precio más alto fue de {precio_año_2} en el año 2024')\n",
        "else:\n",
        "  print(f'el precio más alto fue de {precio_año_3} en el año 2025')"
      ],
      "metadata": {
        "colab": {
          "base_uri": "https://localhost:8080/"
        },
        "id": "50YVC_L1omHy",
        "outputId": "6f40b925-9e4f-489c-aff6-5f288509ea30"
      },
      "execution_count": null,
      "outputs": [
        {
          "output_type": "stream",
          "name": "stdout",
          "text": [
            "el precio más alto fue de 7000000.0 en el año 2025\n"
          ]
        }
      ]
    },
    {
      "cell_type": "code",
      "source": [
        "if precio_año_1 < precio_año_2 and precio_año_1 < precio_año_3:\n",
        "  print(f'el precio más bajo fue de {precio_año_1} en el año 2023')\n",
        "elif precio_año_2 < precio_año_1 and precio_año_2 < precio_año_3:\n",
        "  print(f'el precio más bajo fue de {precio_año_2} en el año 2024')\n",
        "else:\n",
        "  print(f'el precio más bajo fue de {precio_año_3} en el año 2025')"
      ],
      "metadata": {
        "colab": {
          "base_uri": "https://localhost:8080/"
        },
        "id": "LoUrPBFPpREa",
        "outputId": "1ba23a12-f5ed-4f42-8b31-30778f735ad7"
      },
      "execution_count": null,
      "outputs": [
        {
          "output_type": "stream",
          "name": "stdout",
          "text": [
            "el precio más bajo fue de 2500000.0 en el año 2023\n"
          ]
        }
      ]
    },
    {
      "cell_type": "markdown",
      "source": [
        "5 - Escribe un programa que pregunte sobre el precio de tres productos e indique cuál es el producto más barato para comprar."
      ],
      "metadata": {
        "id": "qLcmpo45rH1_"
      }
    },
    {
      "cell_type": "code",
      "source": [
        "producto_1 = float(input('Ingrese el precio del producto 1: '))\n",
        "producto_2 = float(input('Ingrese el precio del producto 2: '))\n",
        "producto_3 = float(input('Ingrese el precio del producto 3: '))"
      ],
      "metadata": {
        "colab": {
          "base_uri": "https://localhost:8080/"
        },
        "id": "nJDOW3hsq_Gw",
        "outputId": "8d00449f-8b43-49cc-9147-72246332f69a"
      },
      "execution_count": 32,
      "outputs": [
        {
          "name": "stdout",
          "output_type": "stream",
          "text": [
            "Ingrese el precio del producto 1: 1000\n",
            "Ingrese el precio del producto 2: 2000\n",
            "Ingrese el precio del producto 3: 200\n"
          ]
        }
      ]
    },
    {
      "cell_type": "code",
      "source": [
        "if producto_1 < producto_2 and producto_1 < producto_3:\n",
        "  print(f'el producto 1 es el más barato con un precio de {producto_1}')\n",
        "elif producto_2 <producto_1 and producto_2 < producto_3:\n",
        "  print(f'el producto 2 es el más barato con un precio de {producto_2}')\n",
        "else:\n",
        "  print(f'el producto 3 es el más barato con un precio de {producto_3}')\n"
      ],
      "metadata": {
        "colab": {
          "base_uri": "https://localhost:8080/"
        },
        "id": "uyA7PvCVrrEk",
        "outputId": "33c96868-f95b-4295-e955-8d51f642b15b"
      },
      "execution_count": 33,
      "outputs": [
        {
          "output_type": "stream",
          "name": "stdout",
          "text": [
            "el producto 3 es el más barato con un precio de 200.0\n"
          ]
        }
      ]
    },
    {
      "cell_type": "markdown",
      "source": [
        "6 - Escribe un programa que lea tres números y los muestre en orden descendente."
      ],
      "metadata": {
        "id": "KDzMdngesPyQ"
      }
    },
    {
      "cell_type": "code",
      "source": [
        "numero_1 = float(input('Ingrese el primer número: '))\n",
        "numero_2 = float(input('Ingrese el segundo número: '))\n",
        "numero_3 = float(input('Ingrese el tercer número: '))"
      ],
      "metadata": {
        "id": "lYpAONPrsJP5",
        "outputId": "ec38563e-722a-4278-979b-6e3e43cf3042",
        "colab": {
          "base_uri": "https://localhost:8080/"
        }
      },
      "execution_count": null,
      "outputs": [
        {
          "name": "stdout",
          "output_type": "stream",
          "text": [
            "Ingrese el primer número: 5\n",
            "Ingrese el segundo número: 9\n",
            "Ingrese el tercer número: 20\n"
          ]
        }
      ]
    },
    {
      "cell_type": "code",
      "source": [
        "if numero_1 > numero_2 and numero_2 > numero_3:\n",
        "  print(numero_1, numero_2, numero_3)\n",
        "elif numero_1 > numero_3 and numero_3 > numero_2:\n",
        "  print(numero_1, numero_3, numero_2)\n",
        "else:\n",
        "  print(numero_3, numero_2, numero_1)"
      ],
      "metadata": {
        "id": "RyJokm2TtjHN",
        "outputId": "4f515499-9c09-402b-81ad-ba4c0f99357e",
        "colab": {
          "base_uri": "https://localhost:8080/"
        }
      },
      "execution_count": null,
      "outputs": [
        {
          "output_type": "stream",
          "name": "stdout",
          "text": [
            "20.0 9.0 5.0\n"
          ]
        }
      ]
    },
    {
      "cell_type": "markdown",
      "source": [
        "7 -Escribe un programa que pregunte en qué turno estudia la persona usuaria (\"mañana\", \"tarde\" o \"noche\") y muestre el mensaje \"¡Buenos Días!\", \"¡Buenas Tardes!\", \"¡Buenas Noches!\" o \"Valor Inválido!\", según el caso."
      ],
      "metadata": {
        "id": "Yy31xQp9unqc"
      }
    },
    {
      "cell_type": "code",
      "source": [
        "turno = input('Ingresa en qué turno estudias: ')"
      ],
      "metadata": {
        "id": "4JDAdvskuWnT",
        "outputId": "7f131fba-932f-4699-b3e7-7738419412eb",
        "colab": {
          "base_uri": "https://localhost:8080/"
        }
      },
      "execution_count": null,
      "outputs": [
        {
          "name": "stdout",
          "output_type": "stream",
          "text": [
            "Ingresa en qué turno estudias: noche\n"
          ]
        }
      ]
    },
    {
      "cell_type": "code",
      "source": [
        "turno_1 = 'mañana'\n",
        "turno_2 = 'tarde'\n",
        "turno_3 = 'noche'\n",
        "\n",
        "if turno == turno_1:\n",
        "  print('¡Buenos días!')\n",
        "elif turno == turno_2:\n",
        "  print('¡Buenas tardes!')\n",
        "elif turno == turno_3:\n",
        "  print('¡Buenas noches!')\n",
        "else :\n",
        "  print('turno inválido')\n"
      ],
      "metadata": {
        "id": "5aXNikqtu6O5",
        "outputId": "28fd0a83-88a1-4d45-8cb9-4c2d6a1be2b4",
        "colab": {
          "base_uri": "https://localhost:8080/"
        }
      },
      "execution_count": null,
      "outputs": [
        {
          "output_type": "stream",
          "name": "stdout",
          "text": [
            "¡Buenas noches!\n"
          ]
        }
      ]
    },
    {
      "cell_type": "markdown",
      "source": [
        "8 - Escribe un programa que solicite un número entero a la persona usuaria y determine si es par o impar. Pista: Puedes usar el operador módulo (%)."
      ],
      "metadata": {
        "id": "ek3Mh1HFv759"
      }
    },
    {
      "cell_type": "code",
      "source": [
        "numero = int(input('Ingrese un número entero: '))"
      ],
      "metadata": {
        "id": "gj3VB7iwvzGs",
        "outputId": "6906d5ad-f666-404c-df7e-4043978e2d28",
        "colab": {
          "base_uri": "https://localhost:8080/"
        }
      },
      "execution_count": null,
      "outputs": [
        {
          "name": "stdout",
          "output_type": "stream",
          "text": [
            "Ingrese un número entero: 8\n"
          ]
        }
      ]
    },
    {
      "cell_type": "code",
      "source": [
        "if numero % 2 == 0:\n",
        "    print(f'{numero} es un número par')\n",
        "else:\n",
        "    print(f'{numero} es un número impar')"
      ],
      "metadata": {
        "id": "sldkxIbYySm-",
        "outputId": "7babfbc2-7970-4669-fa8e-202943f9c74a",
        "colab": {
          "base_uri": "https://localhost:8080/"
        }
      },
      "execution_count": null,
      "outputs": [
        {
          "output_type": "stream",
          "name": "stdout",
          "text": [
            "8 es un número par\n"
          ]
        }
      ]
    },
    {
      "cell_type": "markdown",
      "source": [
        "9 - Escribe un programa que pida un número a la persona usuaria y le informe si es entero o decimal."
      ],
      "metadata": {
        "id": "afo2zhV_0iEn"
      }
    },
    {
      "cell_type": "code",
      "source": [
        "numero = float (input ('ingrese un número: '))"
      ],
      "metadata": {
        "id": "ewkptZmBz690",
        "colab": {
          "base_uri": "https://localhost:8080/"
        },
        "outputId": "b0566338-956e-4faf-8910-ac2311097e76"
      },
      "execution_count": 21,
      "outputs": [
        {
          "name": "stdout",
          "output_type": "stream",
          "text": [
            "ingrese un número: 5.8\n"
          ]
        }
      ]
    },
    {
      "cell_type": "code",
      "source": [
        "if numero == int(numero):\n",
        "  print(f'{numero} es un número entero')\n",
        "else:\n",
        "  print(f'{numero} es un número decimal')"
      ],
      "metadata": {
        "colab": {
          "base_uri": "https://localhost:8080/"
        },
        "id": "atZEjyUr06Vo",
        "outputId": "bcd7dfe5-439f-4bb8-e227-68ef19e36ce4"
      },
      "execution_count": 22,
      "outputs": [
        {
          "output_type": "stream",
          "name": "stdout",
          "text": [
            "5.8 es un número decimal\n"
          ]
        }
      ]
    },
    {
      "cell_type": "markdown",
      "source": [
        "**Momento de los proyectos**"
      ],
      "metadata": {
        "id": "13HZ0Ve12OFH"
      }
    },
    {
      "cell_type": "markdown",
      "source": [
        "10 - Un programa debe ser escrito para leer dos números y luego preguntar a la persona usuaria qué operación desea realizar. El resultado de la operación debe incluir información sobre el número, si es par o impar, positivo o negativo, e entero o decimal."
      ],
      "metadata": {
        "id": "DDLGn9Op3Hcl"
      }
    },
    {
      "cell_type": "code",
      "source": [
        "num_1 = float (input('ingrese el primer número: '))\n",
        "num_2 = float (input('ingrese el segundo número: '))"
      ],
      "metadata": {
        "colab": {
          "base_uri": "https://localhost:8080/"
        },
        "id": "srYrG_mr2HCx",
        "outputId": "1f2b6b66-5eae-418f-de09-e395886364df"
      },
      "execution_count": 23,
      "outputs": [
        {
          "name": "stdout",
          "output_type": "stream",
          "text": [
            "ingrese el primer número: 2.8\n",
            "ingrese el segundo número: 5\n"
          ]
        }
      ]
    },
    {
      "cell_type": "code",
      "source": [
        "operación = input('ingrese la operación que desea realizar: suma, resta, multiplicación, división: ')"
      ],
      "metadata": {
        "colab": {
          "base_uri": "https://localhost:8080/"
        },
        "id": "5YXacg903cUm",
        "outputId": "1249f429-d4bf-45bd-8636-0d89233018b8"
      },
      "execution_count": 24,
      "outputs": [
        {
          "name": "stdout",
          "output_type": "stream",
          "text": [
            "ingrese la operación que desea realizar: suma, resta, multiplicación, división: división\n"
          ]
        }
      ]
    },
    {
      "cell_type": "code",
      "source": [
        "if operación == 'suma':\n",
        "  resultado = num_1 + num_2\n",
        "elif operación == 'resta':\n",
        "  resultado = num_1 - num_2\n",
        "elif operación == 'multiplicación':\n",
        "  resultado = num_1 * num_2\n",
        "elif operación == 'división':\n",
        "  resultado = num_1 / num_2\n",
        "  print(resultado)\n",
        "else:\n",
        "  print('operación inválida')\n"
      ],
      "metadata": {
        "colab": {
          "base_uri": "https://localhost:8080/"
        },
        "id": "q611DSXf3s0M",
        "outputId": "7c96a417-7175-4faf-e911-0fd52802a2d0"
      },
      "execution_count": 26,
      "outputs": [
        {
          "output_type": "stream",
          "name": "stdout",
          "text": [
            "0.5599999999999999\n"
          ]
        }
      ]
    },
    {
      "cell_type": "code",
      "source": [
        "if resultado == int(resultado):\n",
        "  print(f'el resultado es {resultado} y es un número entero')\n",
        "else:\n",
        "  print(f'el resultado es {resultado} y es un número decimal')\n",
        "if resultado % 2 == 0:\n",
        "    print('es un número par')\n",
        "else:\n",
        "    print('es un número impar')\n",
        "\n",
        "if resultado > 0:\n",
        "    print('es un número positivo')\n",
        "else:\n",
        "    print('es un número negativo')\n",
        "\n"
      ],
      "metadata": {
        "colab": {
          "base_uri": "https://localhost:8080/"
        },
        "id": "CuPYr_de6F4e",
        "outputId": "c4918f48-93ca-417a-8cd1-f4f865ba30ea"
      },
      "execution_count": 34,
      "outputs": [
        {
          "output_type": "stream",
          "name": "stdout",
          "text": [
            "el resultado es 0.5599999999999999 y es un número decimal\n",
            "es un número impar\n",
            "es un número positivo\n"
          ]
        }
      ]
    },
    {
      "cell_type": "markdown",
      "source": [
        "11 - Escribe un programa que pida a la persona usuaria tres números que representan los lados de un triángulo. El programa debe informar si los valores pueden utilizarse para formar un triángulo y, en caso afirmativo, si es equilátero, isósceles o escaleno. Ten en cuenta algunas sugerencias:\n",
        "\n",
        "Tres lados forman un triángulo cuando la suma de cualesquiera dos lados es mayor que el tercero;\n",
        "Triángulo Equilátero: tres lados iguales;\n",
        "Triángulo Isósceles: dos lados iguales;\n",
        "Triángulo Escaleno: tres lados diferentes.\n"
      ],
      "metadata": {
        "id": "3FugfTV58nZR"
      }
    },
    {
      "cell_type": "code",
      "source": [
        "lado_1 = float (input('ingrese el primer lado del triángulo: '))\n",
        "lado_2 = float (input('ingrese el segundo lado del triángulo: '))\n",
        "lado_3 = float (input('ingrese el tercer lado del triángulo: '))"
      ],
      "metadata": {
        "colab": {
          "base_uri": "https://localhost:8080/"
        },
        "id": "Pf0M-HP77apn",
        "outputId": "e8e1b01d-1f35-46b7-c14d-769162794d6e"
      },
      "execution_count": 35,
      "outputs": [
        {
          "name": "stdout",
          "output_type": "stream",
          "text": [
            "ingrese el primer lado del triángulo: 30\n",
            "ingrese el segundo lado del triángulo: 30\n",
            "ingrese el tercer lado del triángulo: 39\n"
          ]
        }
      ]
    },
    {
      "cell_type": "code",
      "source": [
        "if lado_1==lado_2==lado_3:\n",
        "  print('el triángulo es equilátero')\n",
        "elif lado_1==lado_2 or lado_1==lado_3 or lado_2==lado_3:\n",
        "  print('el triángulo es isósceles')\n",
        "else:\n",
        "  print('el triángulo es escaleno')"
      ],
      "metadata": {
        "colab": {
          "base_uri": "https://localhost:8080/"
        },
        "id": "CS1zsQa18_JD",
        "outputId": "00bab199-2984-48c7-fca4-de8995c9e6e4"
      },
      "execution_count": 36,
      "outputs": [
        {
          "output_type": "stream",
          "name": "stdout",
          "text": [
            "el triángulo es isósceles\n"
          ]
        }
      ]
    },
    {
      "cell_type": "markdown",
      "source": [
        "12 - Un establecimiento está vendiendo combustibles con descuentos variables. Para el etanol, si la cantidad comprada es de hasta 15 litros, el descuento será del 2% por litro. En caso contrario, será del 4% por litro. Para el diésel, si la cantidad comprada es de hasta 15 litros, el descuento será del 3% por litro. En caso contrario, será del 5% por litro. El precio por litro de diésel es de R 2,00 y el precio por litro de etanol es de R$ 1,70. Escribe un programa que lea la cantidad de litros vendidos y el tipo de combustible (E para etanol y D para diésel) y calcule el valor a pagar por el cliente. Ten en cuenta algunas sugerencias:\n",
        "\n",
        "El valor del descuento será el producto del precio por litro, la cantidad de litros y el valor del descuento.\n",
        "El valor a pagar por un cliente será el resultado de la multiplicación del precio por litro por la cantidad de litros menos el valor del descuento resultante del cálculo."
      ],
      "metadata": {
        "id": "14VYEkwf9iOA"
      }
    },
    {
      "cell_type": "code",
      "source": [
        "compra = input('ingrese el combustible que desea comprar: ')\n",
        "litros = float(input('ingrese la cantidad de litros que desea comprar: '))"
      ],
      "metadata": {
        "colab": {
          "base_uri": "https://localhost:8080/"
        },
        "id": "9Y1LPzGE9bxl",
        "outputId": "d064a710-61b0-439a-e568-61a9af3e737d"
      },
      "execution_count": 44,
      "outputs": [
        {
          "name": "stdout",
          "output_type": "stream",
          "text": [
            "ingrese el combustible que desea comprar: etanol\n",
            "ingrese la cantidad de litros que desea comprar: 20\n"
          ]
        }
      ]
    },
    {
      "cell_type": "code",
      "source": [],
      "metadata": {
        "id": "357cYgPmDDsq"
      },
      "execution_count": null,
      "outputs": []
    },
    {
      "cell_type": "code",
      "source": [
        "E = 'etanol'\n",
        "D = 'Diésel'\n",
        "precio_litro_E = 1.70\n",
        "precio_litro_D = 2.00\n",
        "\n",
        "if compra == E and litros <= 15:\n",
        "  descuento = 0.02\n",
        "  print(f'el cliente compró {litros} litros de {E} y el valor a pagar es de R$ {(precio_litro_E * litros)*(1-descuento)}')\n",
        "elif compra == E and litros > 15:\n",
        "  descuento = 0.04\n",
        "  print(f'el cliente compró {litros} litros de {E} y el valor a pagar es de R$ {(precio_litro_E * litros)*(1-descuento)}')\n",
        "elif compra == D and litros <= 15:\n",
        "  descuento = 0.03\n",
        "  print(f'el cliente compró {litros} litros de {D} y el valor a pagar es de R$ {(precio_litro_D * litros)*(1-descuento)}')\n",
        "elif compra == D and litros > 15:\n",
        "  descuento = 0.05\n",
        "  print(f'el cliente compró {litros} litros de {D} y el valor a pagar es de R$ {(precio_litro_D * litros)*(1-descuento)}')\n",
        "else:\n",
        "  print('datos inválidos')\n"
      ],
      "metadata": {
        "colab": {
          "base_uri": "https://localhost:8080/"
        },
        "cellView": "code",
        "id": "EZhQ1nhl_7GV",
        "outputId": "f6c0e9e6-1dc5-432c-da89-37907821303c"
      },
      "execution_count": 52,
      "outputs": [
        {
          "output_type": "stream",
          "name": "stdout",
          "text": [
            "el cliente compró 20.0 litros de etanol y el valor a pagar es de R$ 32.64\n"
          ]
        }
      ]
    },
    {
      "cell_type": "markdown",
      "source": [
        "13 - En una empresa de venta de bienes raíces, debes crear un código que analice los datos de ventas anuales para ayudar a la dirección en la toma de decisiones. El código debe recopilar los datos de cantidad de ventas durante los años 2022 y 2023 y calcular la variación porcentual. A partir del valor de la variación, se deben proporcionar las siguientes sugerencias:\n",
        "\n",
        "Para una variación superior al 20%: bonificación para el equipo de ventas.\n",
        "Para una variación entre el 2% y el 20%: pequeña bonificación para el equipo de ventas.\n",
        "Para una variación entre el 2% y el -10%: planificación de políticas de incentivo a las ventas.\n",
        "Para bonificaciones inferiores al -10%: recorte de gastos."
      ],
      "metadata": {
        "id": "ghkJ5wcmGq7Z"
      }
    },
    {
      "cell_type": "code",
      "source": [
        "ventas_anuales_2022 = float(input('ingrese la cantidad de ventas anuales del año 2022: '))\n",
        "ventas_anuales_2023 = float(input('ingrese la cantidad de ventas anuales del año 2023: '))"
      ],
      "metadata": {
        "id": "srTXzfJWPjz6",
        "outputId": "07bef57c-2eda-4ab3-b922-3044fd904c52",
        "colab": {
          "base_uri": "https://localhost:8080/"
        }
      },
      "execution_count": 73,
      "outputs": [
        {
          "name": "stdout",
          "output_type": "stream",
          "text": [
            "ingrese la cantidad de ventas anuales del año 2022: 400000000\n",
            "ingrese la cantidad de ventas anuales del año 2023: 10\n"
          ]
        }
      ]
    },
    {
      "cell_type": "code",
      "source": [
        "variación_1 = 0.2\n",
        "variación_2 = 0.02\n",
        "variación_3 = -0.1\n",
        "\n",
        "if {(ventas_anuales_2023 - ventas_anuales_2022)>(ventas_anuales_2022 * variación_1)}:\n",
        "  print('bonificación para el equipo de ventas')\n",
        "elif {(ventas_anuales_2023 - ventas_anuales_2022)<=(ventas_anuales_2022 * variación_1)} and {(ventas_anuales_2023 - ventas_anuales_2022)>=(ventas_anuales_2022 * variación_2)}:\n",
        "  print('pequeña bonificación para el equipo de ventas')\n",
        "elif {(ventas_anuales_2023 - ventas_anuales_2022)<(ventas_anuales_2022 * variación_2)} and {(ventas_anuales_2022 - ventas_anuales_2023)>=(ventas_anuales_2022 * variación_3)}:\n",
        "  print('planificación de políticas de incentivo a las ventas')\n",
        "elif {(ventas_anuales_2022 - ventas_anuales_2023)<variación_3}:\n",
        "  print('recorte de gastos')"
      ],
      "metadata": {
        "colab": {
          "base_uri": "https://localhost:8080/"
        },
        "id": "WCvevUUXHXQG",
        "outputId": "a2579581-678e-4ad2-bbc2-8bc3bba32ac5"
      },
      "execution_count": 72,
      "outputs": [
        {
          "output_type": "stream",
          "name": "stdout",
          "text": [
            "bonificación para el equipo de ventas\n"
          ]
        }
      ]
    },
    {
      "cell_type": "code",
      "source": [
        "venta_2022 = float(input('Ingrese la cantidad de ventas en 2022: '))\n",
        "venta_2023 = float(input('Ingrese la cantidad de ventas en 2023: '))\n",
        "\n",
        "# Calculamos la variación porcentual entre las ventas de los años 2022 y 2023\n",
        "var_porcentual = 100 * (venta_2023 - venta_2022) / (venta_2022)\n",
        "\n",
        "# Análisis condicional de la variación porcentual para determinar la sugerencia a enviar\n",
        "if var_porcentual > 20:\n",
        "    print('Bonificación para el equipo de ventas.')\n",
        "elif 2 <= var_porcentual <= 20:\n",
        "    print('Pequeña bonificación para el equipo de ventas.')\n",
        "elif -10 <= var_porcentual < 2:\n",
        "    print('Planificación de políticas de incentivo a las ventas.')\n",
        "else:\n",
        "    print('Recorte de gastos.')"
      ],
      "metadata": {
        "id": "KEDyK8HQLe2a"
      },
      "execution_count": 70,
      "outputs": []
    }
  ]
}